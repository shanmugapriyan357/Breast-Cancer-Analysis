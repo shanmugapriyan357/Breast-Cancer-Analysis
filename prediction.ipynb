{
 "cells": [
  {
   "cell_type": "code",
   "execution_count": 2,
   "metadata": {},
   "outputs": [
    {
     "name": "stdout",
     "output_type": "stream",
     "text": [
      "Benign (Class 0): 82.97%\n",
      "Malignant (Class 1): 17.03%\n"
     ]
    }
   ],
   "source": [
    "import pandas as pd\n",
    "import joblib\n",
    "from sklearn.preprocessing import StandardScaler\n",
    "from sklearn.feature_selection import SelectKBest\n",
    "from sklearn.neural_network import MLPClassifier\n",
    "\n",
    "# Load the saved models and scaler\n",
    "scaler = joblib.load('scaler.pkl')\n",
    "selector = joblib.load('selector.pkl')\n",
    "model = joblib.load('breast_cancer_model.pkl')\n",
    "\n",
    "# Sample input data (you can replace this with actual data or user input)\n",
    "input_data = pd.DataFrame({\n",
    "    'mean radius': [14.00729174],\n",
    "    'mean texture': [19.28964851],\n",
    "    'mean perimeter': [91.96903339],\n",
    "    'mean area': [654.8891037],\n",
    "    'mean smoothness': [0.096360281],\n",
    "    'mean compactness': [0.104340984],\n",
    "    'mean concavity': [0.088799316],\n",
    "    'mean concave points': [0.048919146],\n",
    "    'mean symmetry': [0.181161863],\n",
    "    'mean fractal dimension': [0.06279761],\n",
    "    'radius error': [0.405172056],\n",
    "    'texture error': [1.216853427],\n",
    "    'perimeter error': [2.866059227],\n",
    "    'area error': [40.33707909],\n",
    "    'smoothness error': [0.007040979],\n",
    "    'compactness error': [0.025478139],\n",
    "    'concavity error': [0.031893716],\n",
    "    'concave points error': [0.011796137],\n",
    "    'symmetry error': [0.020542299],\n",
    "    'fractal dimension error': [0.003794904],\n",
    "    'worst radius': [16.26918981],\n",
    "    'worst texture': [25.6772232],\n",
    "    'worst perimeter': [107.2612127],\n",
    "    'worst area': [880.5831283],\n",
    "    'worst smoothness': [0.132368594],\n",
    "    'worst compactness': [0.254265044],\n",
    "    'worst concavity': [0.272188483],\n",
    "    'worst concave points': [0.114606223],\n",
    "    'worst symmetry': [0.290075571],\n",
    "    'worst fractal dimension': [0.083945817]\n",
    "})\n",
    "\n",
    "# Ensure the input data matches the feature names used during training\n",
    "# If necessary, reorder or fill missing features with default values\n",
    "missing_features = set(X.columns) - set(input_data.columns)\n",
    "for feature in missing_features:\n",
    "    input_data[feature] = 0  # Add missing features with default values\n",
    "input_data = input_data[X.columns]  # Reorder columns to match the training data\n",
    "\n",
    "# Preprocess the input data\n",
    "input_data_scaled = scaler.transform(input_data)\n",
    "input_data_selected = selector.transform(input_data_scaled)\n",
    "\n",
    "# Predict probabilities\n",
    "prediction_proba = model.predict_proba(input_data_selected)\n",
    "\n",
    "# Display probabilities\n",
    "class_labels = ['Benign (Class 0)', 'Malignant (Class 1)']\n",
    "for label, proba in zip(class_labels, prediction_proba[0]):\n",
    "    print(f\"{label}: {proba * 100:.2f}%\")\n"
   ]
  }
 ],
 "metadata": {
  "kernelspec": {
   "display_name": "Python 3",
   "language": "python",
   "name": "python3"
  },
  "language_info": {
   "codemirror_mode": {
    "name": "ipython",
    "version": 3
   },
   "file_extension": ".py",
   "mimetype": "text/x-python",
   "name": "python",
   "nbconvert_exporter": "python",
   "pygments_lexer": "ipython3",
   "version": "3.10.11"
  }
 },
 "nbformat": 4,
 "nbformat_minor": 2
}
